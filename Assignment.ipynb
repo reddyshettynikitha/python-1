{
 "cells": [
  {
   "cell_type": "code",
   "execution_count": 1,
   "metadata": {},
   "outputs": [
    {
     "name": "stdout",
     "output_type": "stream",
     "text": [
      "4 6 "
     ]
    }
   ],
   "source": [
    "#consider only even numbers fromlist\n",
    "a=[1,4,5,6,9]\n",
    "def evenNumber(a):\n",
    "   for x in range(len(a)):\n",
    "       if a[x]%2==0 :\n",
    "           print(a[x],end=\" \")\n",
    "   return \n",
    "evenNumber(a)\n"
   ]
  },
  {
   "cell_type": "code",
   "execution_count": 2,
   "metadata": {},
   "outputs": [
    {
     "name": "stdout",
     "output_type": "stream",
     "text": [
      "1 4 3 16 5 "
     ]
    }
   ],
   "source": [
    "#consider only even number and square of it\n",
    "a=[1,2,3,4,5]\n",
    "def evenSquare(a):\n",
    "   for x in range (len(a)):\n",
    "       if a[x]%2!=0 :\n",
    "           print(a[x],end=\" \")\n",
    "       elif a[x]%2==0 :\n",
    "           print(a[x]*a[x],end=\" \")\n",
    "   return\n",
    "evenSquare(a)\n"
   ]
  },
  {
   "cell_type": "code",
   "execution_count": 6,
   "metadata": {},
   "outputs": [
    {
     "ename": "IndentationError",
     "evalue": "unindent does not match any outer indentation level (<tokenize>, line 7)",
     "output_type": "error",
     "traceback": [
      "\u001b[1;36m  File \u001b[1;32m\"<tokenize>\"\u001b[1;36m, line \u001b[1;32m7\u001b[0m\n\u001b[1;33m    elif  x>0 or x<=len(a)-1 :\u001b[0m\n\u001b[1;37m    ^\u001b[0m\n\u001b[1;31mIndentationError\u001b[0m\u001b[1;31m:\u001b[0m unindent does not match any outer indentation level\n"
     ]
    }
   ],
   "source": [
    "#function to add previous number to current number\n",
    "a=[15,19,12,16,4]\n",
    "def addPrevious(a):\n",
    "    for x in range (len(a)):\n",
    "       if x==0 :\n",
    "           print(a[x],end=\" \")\n",
    "        elif  x>0 or x<=len(a)-1 :\n",
    "           print(a[x]=a[x]+a[x-1],end=\" \")\n",
    "    return\n",
    "addPrevious(a)"
   ]
  },
  {
   "cell_type": "code",
   "execution_count": 1,
   "metadata": {},
   "outputs": [
    {
     "name": "stdout",
     "output_type": "stream",
     "text": [
      "3 2 1 1 0 "
     ]
    }
   ],
   "source": [
    "def reverseFibonacci(n): \n",
    "   a = [0] * n  \n",
    "   a[0] = 0 \n",
    "   a[1] = 1\n",
    "   for i in range(2, n):   \n",
    "       a[i] = a[i - 2] + a[i - 1]  \n",
    "   for i in range(n - 1, -1 , -1):   \n",
    "       print(a[i],end=\" \")  \n",
    "n = 5 \n",
    "reverseFibonacci(n)\n"
   ]
  },
  {
   "cell_type": "code",
   "execution_count": 2,
   "metadata": {},
   "outputs": [
    {
     "name": "stdout",
     "output_type": "stream",
     "text": [
      "1\n",
      "3\n",
      "9\n",
      "27\n",
      "81\n",
      "243\n",
      "729\n"
     ]
    }
   ],
   "source": [
    "#assignment\n",
    "#function to generate series\n",
    "def generateSeries(n):\n",
    "   i=0\n",
    "   for i in range(7):\n",
    "       x=n**i\n",
    "       print(x)\n",
    "       i=i+1\n",
    "   return\n",
    "generateSeries(3)"
   ]
  },
  {
   "cell_type": "code",
   "execution_count": 3,
   "metadata": {},
   "outputs": [
    {
     "name": "stdout",
     "output_type": "stream",
     "text": [
      "1\n",
      "2\n",
      "4\n",
      "8\n",
      "16\n",
      "32\n",
      "64\n",
      "128\n",
      "256\n",
      "512\n",
      "1\n",
      "3\n",
      "8\n",
      "15\n",
      "27\n",
      "50\n",
      "92\n",
      "169\n",
      "311\n",
      "572\n",
      "1052\n",
      "1935\n"
     ]
    }
   ],
   "source": []
  },
  {
   "cell_type": "code",
   "execution_count": null,
   "metadata": {},
   "outputs": [],
   "source": []
  }
 ],
 "metadata": {
  "kernelspec": {
   "display_name": "Python 3",
   "language": "python",
   "name": "python3"
  },
  "language_info": {
   "codemirror_mode": {
    "name": "ipython",
    "version": 3
   },
   "file_extension": ".py",
   "mimetype": "text/x-python",
   "name": "python",
   "nbconvert_exporter": "python",
   "pygments_lexer": "ipython3",
   "version": "3.7.3"
  }
 },
 "nbformat": 4,
 "nbformat_minor": 2
}
