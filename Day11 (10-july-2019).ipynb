{
 "cells": [
  {
   "cell_type": "markdown",
   "metadata": {},
   "source": [
    "# Standard Libraries\n",
    "- file I/O\n",
    "- Regular Expresssion\n",
    "- Datetime\n",
    "- Math(numerical and Mathematical)"
   ]
  },
  {
   "cell_type": "markdown",
   "metadata": {},
   "source": [
    "### File Handling in Python\n",
    "- File:- Document containing information\n",
    "- Different types of files :-txt,doc,pdf,csv etc...\n",
    "- Input -- Keyboard\n",
    "- Output -- File\n",
    "### Modes of the I/O\n",
    "- 'w' -- This mode is used to file writing\n",
    "      -- If the file is not present first it creates the file and write so me data to it\n",
    "      -- If the file is already present then it will rewrite the previous content"
   ]
  },
  {
   "cell_type": "code",
   "execution_count": 5,
   "metadata": {},
   "outputs": [
    {
     "name": "stdout",
     "output_type": "stream",
     "text": [
      "File is created and data has written\n"
     ]
    }
   ],
   "source": [
    "# function to create a file and write to the file \n",
    "def createFile(filename):\n",
    "    f = open(filename,'w')\n",
    "    for i in range(10):\n",
    "        f.write('This is %d Line ' % i)\n",
    "    print(\"File is created and data has written\")\n",
    "    return\n",
    "createFile('file.txt')\n"
   ]
  },
  {
   "cell_type": "code",
   "execution_count": 6,
   "metadata": {},
   "outputs": [
    {
     "name": "stdout",
     "output_type": "stream",
     "text": [
      " Volume in drive C has no label.\n",
      " Volume Serial Number is 4E95-A221\n",
      "\n",
      " Directory of C:\\Users\\exam\n",
      "\n",
      "11-07-2019  09:34    <DIR>          .\n",
      "11-07-2019  09:34    <DIR>          ..\n",
      "21-06-2019  18:03    <DIR>          .anaconda\n",
      "25-06-2019  21:34               795 .bash_history\n",
      "08-07-2019  18:37    <DIR>          .conda\n",
      "08-07-2019  14:48                43 .condarc\n",
      "19-06-2019  22:07                57 .gitconfig\n",
      "29-06-2019  16:22    <DIR>          .idlerc\n",
      "11-07-2019  09:07    <DIR>          .ipynb_checkpoints\n",
      "21-06-2019  18:06    <DIR>          .ipython\n",
      "21-06-2019  20:07    <DIR>          .jupyter\n",
      "28-06-2019  21:15    <DIR>          .matplotlib\n",
      "27-03-2019  14:34    <DIR>          .oracle_jre_usage\n",
      "21-06-2019  17:37    <DIR>          Anaconda3\n",
      "10-07-2019  14:29             4,154 Assignment.ipynb\n",
      "24-11-2016  14:57    <DIR>          Contacts\n",
      "09-07-2019  16:58            12,559 day 07-july-2019.ipynb\n",
      "09-07-2019  17:08            15,796 Day 08 09-july-2019.ipynb\n",
      "09-07-2019  16:49             9,118 day 6 06-july-2019.ipynb\n",
      "10-07-2019  16:24            17,957 Day 9  10-july-2019.ipynb\n",
      "10-07-2019  14:33             6,303 Day 9 Assignment.ipynb\n",
      "08-07-2019  18:00    <DIR>          Desktop\n",
      "04-07-2019  19:01    <DIR>          Documents\n",
      "11-07-2019  09:12    <DIR>          Downloads\n",
      "24-11-2016  14:57    <DIR>          Favorites\n",
      "11-07-2019  09:34               150 file.txt\n",
      "08-07-2019  22:49           490,712 Google tools - Google Docs.html\n",
      "08-07-2019  22:49    <DIR>          Google tools - Google Docs_files\n",
      "24-11-2016  14:57    <DIR>          Links\n",
      "24-11-2016  14:57    <DIR>          Music\n",
      "08-07-2019  22:50           634,455 My Trainer - Google Slides.html\n",
      "08-07-2019  22:50    <DIR>          My Trainer - Google Slides_files\n",
      "22-03-2019  11:01               780 newKeyboardListener.java\n",
      "24-11-2016  14:57    <DIR>          Pictures\n",
      "29-06-2019  19:51    <DIR>          python\n",
      "06-07-2019  14:49    <DIR>          Python-Nikitha.R\n",
      "24-11-2016  14:57    <DIR>          Saved Games\n",
      "01-07-2019  20:11    <DIR>          Searches\n",
      "27-03-2019  14:43             1,032 student.dtd\n",
      "27-03-2019  15:00               342 student.xml\n",
      "27-03-2019  14:59               362 student_details.dtd\n",
      "25-06-2019  23:00               604 Untitled.ipynb\n",
      "06-07-2019  14:43                72 Untitled1.ipynb\n",
      "11-07-2019  09:33             2,134 Untitled2.ipynb\n",
      "24-11-2016  14:57    <DIR>          Videos\n",
      "              19 File(s)      1,197,425 bytes\n",
      "              26 Dir(s)  70,782,115,840 bytes free\n"
     ]
    }
   ],
   "source": [
    "ls"
   ]
  },
  {
   "cell_type": "code",
   "execution_count": 8,
   "metadata": {},
   "outputs": [
    {
     "name": "stdout",
     "output_type": "stream",
     "text": [
      "this is 0 line\n",
      "\n",
      "this is 1 line\n",
      "\n",
      "this is 2 line\n",
      "\n",
      "this is 3 line\n",
      "\n",
      "this is 4 line\n",
      "\n",
      "this is 5 line\n",
      "\n",
      "this is 6 line\n",
      "\n",
      "this is 7 line\n",
      "\n",
      "this is 8 line\n",
      "\n",
      "this is 9 line\n",
      "\n",
      "file created and succesfully data written\n"
     ]
    }
   ],
   "source": [
    "def appendData(filename):\n",
    "   f = open(filename,'a')\n",
    "   for i in range(10):\n",
    "       print(\"this is %d line\\n\" % i)\n",
    "   print(\"file created and succesfully data written\")\n",
    "   return\n",
    "appendData('file2.txt')"
   ]
  },
  {
   "cell_type": "code",
   "execution_count": 9,
   "metadata": {},
   "outputs": [
    {
     "name": "stdout",
     "output_type": "stream",
     "text": [
      "file created and succesfully data written\n"
     ]
    }
   ],
   "source": [
    "def appendData(filename):\n",
    "   f = open(filename,'a')\n",
    "   f.write(\"New line 1 \\n\")\n",
    "   f.write(\"New line 2 \\n\")\n",
    "   print(\"file created and succesfully data written\")\n",
    "   return\n",
    "appendData('file2.txt')"
   ]
  },
  {
   "cell_type": "code",
   "execution_count": 10,
   "metadata": {},
   "outputs": [
    {
     "name": "stdout",
     "output_type": "stream",
     "text": [
      "New line 1 \n",
      "New line 2 \n",
      "\n"
     ]
    }
   ],
   "source": [
    "# Function to read of the file\n",
    "def readFileData(filename):\n",
    "   f = open(filename,'r')\n",
    "   if f.mode == 'r':\n",
    "       x = f.read()\n",
    "       print(x)\n",
    "   f.close()\n",
    "   return\n",
    "readFileData('file2.txt')"
   ]
  },
  {
   "cell_type": "code",
   "execution_count": 3,
   "metadata": {},
   "outputs": [
    {
     "name": "stdout",
     "output_type": "stream",
     "text": [
      "Enter the file namefile2.txt\n",
      "Enter the mode of the filer\n",
      "New line 1 \n",
      "New line 2 \n",
      "\n"
     ]
    }
   ],
   "source": [
    "# Function to read the File\n",
    "def fileOperations(filename,mode):\n",
    "    with open(filename,mode) as f:\n",
    "        if f.mode == 'r':\n",
    "            data = f.read()\n",
    "            print(data)\n",
    "        elif f.mode == 'a':\n",
    "            f.write('Data to the file')\n",
    "            print('The data successful written')\n",
    "        f.close()\n",
    "    return\n",
    "filename = input('Enter the file name')\n",
    "mode = input('Enter the mode of the file')\n",
    "fileOperations(filename,mode)"
   ]
  },
  {
   "cell_type": "code",
   "execution_count": 5,
   "metadata": {},
   "outputs": [
    {
     "name": "stdout",
     "output_type": "stream",
     "text": [
      "Enter the file name:file2.txt\n",
      "Enter the word :r\n"
     ]
    },
    {
     "data": {
      "text/plain": [
       "0"
      ]
     },
     "execution_count": 5,
     "metadata": {},
     "output_type": "execute_result"
    }
   ],
   "source": [
    "# Data Analysis\n",
    "# Word Count Program\n",
    "def wordCount(filename,word):\n",
    "   with open(filename,'r') as f:\n",
    "       if f.mode == 'r':\n",
    "           x = f.read()\n",
    "           li = x.split() # It's splits the string with  \n",
    "   cnt = li.count(word)\n",
    "   return cnt\n",
    "filename = input('Enter the file name:')\n",
    "word = input('Enter the word :') # which word count you need\n",
    "wordCount(filename,word)"
   ]
  },
  {
   "cell_type": "code",
   "execution_count": 6,
   "metadata": {},
   "outputs": [
    {
     "name": "stdout",
     "output_type": "stream",
     "text": [
      "Enter the filename :file2.txt\n"
     ]
    },
    {
     "data": {
      "text/plain": [
       "24"
      ]
     },
     "execution_count": 6,
     "metadata": {},
     "output_type": "execute_result"
    }
   ],
   "source": [
    "# character count from the given file\n",
    "def charCount(filename):\n",
    "   with open(filename,'r')as f:\n",
    "       if f.mode == 'r':\n",
    "           x = f.read()\n",
    "           li = list(x)# Convert the string - char\n",
    "   return len(li)\n",
    "filename = input('Enter the filename :')\n",
    "charCount(filename)"
   ]
  },
  {
   "cell_type": "code",
   "execution_count": 7,
   "metadata": {},
   "outputs": [
    {
     "name": "stdout",
     "output_type": "stream",
     "text": [
      "['Python Progr', 'mming']\n"
     ]
    }
   ],
   "source": [
    "s1 = \"Python Programming\"\n",
    "print(s1.split('a'))"
   ]
  },
  {
   "cell_type": "code",
   "execution_count": 8,
   "metadata": {},
   "outputs": [
    {
     "name": "stdout",
     "output_type": "stream",
     "text": [
      "Enter the filenamefile2.txt\n"
     ]
    },
    {
     "data": {
      "text/plain": [
       "3"
      ]
     },
     "execution_count": 8,
     "metadata": {},
     "output_type": "execute_result"
    }
   ],
   "source": [
    "# Function to find the no of lines in the input file\n",
    "# Input -- filename(file2.txt)\n",
    "# Output -- no of lines(12)\n",
    "def countOfLines(filename):\n",
    "   with open(filename,'r')as f:\n",
    "       if f.mode == 'r':\n",
    "           x = f.read()\n",
    "           li = x.split(\"\\n\")\n",
    "   return len(li)\n",
    "filename = input('Enter the filename')\n",
    "countOfLines(filename)\n"
   ]
  },
  {
   "cell_type": "code",
   "execution_count": 9,
   "metadata": {},
   "outputs": [
    {
     "name": "stdout",
     "output_type": "stream",
     "text": [
      "enter the filename : file2.txt\n"
     ]
    },
    {
     "data": {
      "text/plain": [
       "'upper case = 2 , lower case = 12'"
      ]
     },
     "execution_count": 9,
     "metadata": {},
     "output_type": "execute_result"
    }
   ],
   "source": [
    "# functional to print the upper and lower character\n",
    "def casecount(filename):\n",
    "   cntupper = 0\n",
    "   cntlower = 0\n",
    "   with open(filename,'r') as f:\n",
    "       if f.mode == 'r':\n",
    "           x = f.read()\n",
    "           li = list(x)\n",
    "       for i in li:\n",
    "           if i.isupper():\n",
    "               cntupper += 1 # cntupper = cntupper + 1\n",
    "           elif i.islower():\n",
    "               cntlower += 1 # cntlowert =cntlower + 1\n",
    "       output = 'upper case = {0} , lower case = {1}'.format(cntupper,cntlower)\n",
    "       return output\n",
    "filename = input('enter the filename : ')\n",
    "casecount(filename)"
   ]
  },
  {
   "cell_type": "markdown",
   "metadata": {},
   "source": [
    "### math,random,os\n",
    "- os package it contains the certain methods which works with os"
   ]
  },
  {
   "cell_type": "code",
   "execution_count": 10,
   "metadata": {},
   "outputs": [
    {
     "name": "stdout",
     "output_type": "stream",
     "text": [
      "C:\\Users\\exam\n"
     ]
    }
   ],
   "source": [
    "cd ...."
   ]
  },
  {
   "cell_type": "code",
   "execution_count": 11,
   "metadata": {},
   "outputs": [
    {
     "name": "stdout",
     "output_type": "stream",
     "text": [
      " Volume in drive C has no label.\n",
      " Volume Serial Number is 4E95-A221\n",
      "\n",
      " Directory of C:\\Users\\exam\n",
      "\n",
      "11-07-2019  12:25    <DIR>          .\n",
      "11-07-2019  12:25    <DIR>          ..\n",
      "21-06-2019  18:03    <DIR>          .anaconda\n",
      "25-06-2019  21:34               795 .bash_history\n",
      "08-07-2019  18:37    <DIR>          .conda\n",
      "08-07-2019  14:48                43 .condarc\n",
      "19-06-2019  22:07                57 .gitconfig\n",
      "29-06-2019  16:22    <DIR>          .idlerc\n",
      "11-07-2019  09:07    <DIR>          .ipynb_checkpoints\n",
      "21-06-2019  18:06    <DIR>          .ipython\n",
      "21-06-2019  20:07    <DIR>          .jupyter\n",
      "28-06-2019  21:15    <DIR>          .matplotlib\n",
      "27-03-2019  14:34    <DIR>          .oracle_jre_usage\n",
      "21-06-2019  17:37    <DIR>          Anaconda3\n",
      "10-07-2019  14:29             4,154 Assignment.ipynb\n",
      "24-11-2016  14:57    <DIR>          Contacts\n",
      "09-07-2019  16:58            12,559 day 07-july-2019.ipynb\n",
      "09-07-2019  17:08            15,796 Day 08 09-july-2019.ipynb\n",
      "09-07-2019  16:49             9,118 day 6 06-july-2019.ipynb\n",
      "10-07-2019  16:24            17,957 Day 9  10-july-2019.ipynb\n",
      "10-07-2019  14:33             6,303 Day 9 Assignment.ipynb\n",
      "08-07-2019  18:00    <DIR>          Desktop\n",
      "04-07-2019  19:01    <DIR>          Documents\n",
      "11-07-2019  09:12    <DIR>          Downloads\n",
      "24-11-2016  14:57    <DIR>          Favorites\n",
      "11-07-2019  09:34               150 file.txt\n",
      "11-07-2019  10:06                26 file2.txt\n",
      "08-07-2019  22:49           490,712 Google tools - Google Docs.html\n",
      "08-07-2019  22:49    <DIR>          Google tools - Google Docs_files\n",
      "24-11-2016  14:57    <DIR>          Links\n",
      "24-11-2016  14:57    <DIR>          Music\n",
      "08-07-2019  22:50           634,455 My Trainer - Google Slides.html\n",
      "08-07-2019  22:50    <DIR>          My Trainer - Google Slides_files\n",
      "22-03-2019  11:01               780 newKeyboardListener.java\n",
      "24-11-2016  14:57    <DIR>          Pictures\n",
      "29-06-2019  19:51    <DIR>          python\n",
      "06-07-2019  14:49    <DIR>          Python-Nikitha.R\n",
      "24-11-2016  14:57    <DIR>          Saved Games\n",
      "01-07-2019  20:11    <DIR>          Searches\n",
      "27-03-2019  14:43             1,032 student.dtd\n",
      "27-03-2019  15:00               342 student.xml\n",
      "27-03-2019  14:59               362 student_details.dtd\n",
      "25-06-2019  23:00               604 Untitled.ipynb\n",
      "06-07-2019  14:43                72 Untitled1.ipynb\n",
      "11-07-2019  12:25            12,166 Untitled2.ipynb\n",
      "24-11-2016  14:57    <DIR>          Videos\n",
      "              20 File(s)      1,207,483 bytes\n",
      "              26 Dir(s)  70,763,237,376 bytes free\n"
     ]
    }
   ],
   "source": [
    "ls"
   ]
  },
  {
   "cell_type": "code",
   "execution_count": 12,
   "metadata": {},
   "outputs": [
    {
     "ename": "FileNotFoundError",
     "evalue": "[WinError 3] The system cannot find the path specified: 'Git'",
     "output_type": "error",
     "traceback": [
      "\u001b[1;31m---------------------------------------------------------------------------\u001b[0m",
      "\u001b[1;31mFileNotFoundError\u001b[0m                         Traceback (most recent call last)",
      "\u001b[1;32m<ipython-input-12-361b913f4255>\u001b[0m in \u001b[0;36m<module>\u001b[1;34m\u001b[0m\n\u001b[0;32m      1\u001b[0m \u001b[1;32mfrom\u001b[0m \u001b[0mpathlib\u001b[0m \u001b[1;32mimport\u001b[0m \u001b[0mPath\u001b[0m\u001b[1;33m\u001b[0m\u001b[1;33m\u001b[0m\u001b[0m\n\u001b[0;32m      2\u001b[0m \u001b[0mli\u001b[0m \u001b[1;33m=\u001b[0m \u001b[0mPath\u001b[0m\u001b[1;33m(\u001b[0m\u001b[1;34m'Git/'\u001b[0m\u001b[1;33m)\u001b[0m\u001b[1;33m\u001b[0m\u001b[1;33m\u001b[0m\u001b[0m\n\u001b[1;32m----> 3\u001b[1;33m \u001b[1;32mfor\u001b[0m \u001b[0mi\u001b[0m \u001b[1;32min\u001b[0m \u001b[0mli\u001b[0m\u001b[1;33m.\u001b[0m\u001b[0miterdir\u001b[0m\u001b[1;33m(\u001b[0m\u001b[1;33m)\u001b[0m\u001b[1;33m:\u001b[0m\u001b[1;33m\u001b[0m\u001b[1;33m\u001b[0m\u001b[0m\n\u001b[0m\u001b[0;32m      4\u001b[0m     \u001b[0mprint\u001b[0m\u001b[1;33m(\u001b[0m\u001b[0mi\u001b[0m\u001b[1;33m.\u001b[0m\u001b[0mname\u001b[0m\u001b[1;33m)\u001b[0m\u001b[1;33m\u001b[0m\u001b[1;33m\u001b[0m\u001b[0m\n",
      "\u001b[1;32mD:\\Users\\exam\\Anaconda3\\lib\\pathlib.py\u001b[0m in \u001b[0;36miterdir\u001b[1;34m(self)\u001b[0m\n\u001b[0;32m   1081\u001b[0m         \u001b[1;32mif\u001b[0m \u001b[0mself\u001b[0m\u001b[1;33m.\u001b[0m\u001b[0m_closed\u001b[0m\u001b[1;33m:\u001b[0m\u001b[1;33m\u001b[0m\u001b[1;33m\u001b[0m\u001b[0m\n\u001b[0;32m   1082\u001b[0m             \u001b[0mself\u001b[0m\u001b[1;33m.\u001b[0m\u001b[0m_raise_closed\u001b[0m\u001b[1;33m(\u001b[0m\u001b[1;33m)\u001b[0m\u001b[1;33m\u001b[0m\u001b[1;33m\u001b[0m\u001b[0m\n\u001b[1;32m-> 1083\u001b[1;33m         \u001b[1;32mfor\u001b[0m \u001b[0mname\u001b[0m \u001b[1;32min\u001b[0m \u001b[0mself\u001b[0m\u001b[1;33m.\u001b[0m\u001b[0m_accessor\u001b[0m\u001b[1;33m.\u001b[0m\u001b[0mlistdir\u001b[0m\u001b[1;33m(\u001b[0m\u001b[0mself\u001b[0m\u001b[1;33m)\u001b[0m\u001b[1;33m:\u001b[0m\u001b[1;33m\u001b[0m\u001b[1;33m\u001b[0m\u001b[0m\n\u001b[0m\u001b[0;32m   1084\u001b[0m             \u001b[1;32mif\u001b[0m \u001b[0mname\u001b[0m \u001b[1;32min\u001b[0m \u001b[1;33m{\u001b[0m\u001b[1;34m'.'\u001b[0m\u001b[1;33m,\u001b[0m \u001b[1;34m'..'\u001b[0m\u001b[1;33m}\u001b[0m\u001b[1;33m:\u001b[0m\u001b[1;33m\u001b[0m\u001b[1;33m\u001b[0m\u001b[0m\n\u001b[0;32m   1085\u001b[0m                 \u001b[1;31m# Yielding a path object for these makes little sense\u001b[0m\u001b[1;33m\u001b[0m\u001b[1;33m\u001b[0m\u001b[1;33m\u001b[0m\u001b[0m\n",
      "\u001b[1;31mFileNotFoundError\u001b[0m: [WinError 3] The system cannot find the path specified: 'Git'"
     ]
    }
   ],
   "source": [
    "from pathlib import Path\n",
    "li = Path('Git/')\n",
    "for i in li.iterdir():\n",
    "    print(i.name)"
   ]
  },
  {
   "cell_type": "code",
   "execution_count": null,
   "metadata": {},
   "outputs": [],
   "source": [
    "import os\n",
    "dirPath = \"Git/\"\n",
    "\n",
    "for "
   ]
  }
 ],
 "metadata": {
  "kernelspec": {
   "display_name": "Python 3",
   "language": "python",
   "name": "python3"
  },
  "language_info": {
   "codemirror_mode": {
    "name": "ipython",
    "version": 3
   },
   "file_extension": ".py",
   "mimetype": "text/x-python",
   "name": "python",
   "nbconvert_exporter": "python",
   "pygments_lexer": "ipython3",
   "version": "3.7.3"
  }
 },
 "nbformat": 4,
 "nbformat_minor": 2
}
