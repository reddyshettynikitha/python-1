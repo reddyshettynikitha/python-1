{
 "cells": [
  {
   "cell_type": "code",
   "execution_count": 3,
   "metadata": {},
   "outputs": [
    {
     "name": "stdout",
     "output_type": "stream",
     "text": [
      "Enetr number 1 12\n",
      "Enter number 2 7\n",
      "Enter number 3 5\n",
      "12  is the large number \n"
     ]
    }
   ],
   "source": [
    "# Find thje large number from the given 3 numbers\n",
    "a1 = int(input(\"Enetr number 1 \"))\n",
    "a2 = int(input(\"Enter number 2 \"))\n",
    "a3 = int(input(\"Enter number 3 \"))\n",
    "\n",
    "if a1>a2 and a1>a3:\n",
    "    print(a1, \" is the large number \")\n",
    "elif a2>a1 and a2>a3:\n",
    "    print(a2, \" is the large number \")\n",
    "else:\n",
    "    print(a3, \" is the large number \")"
   ]
  },
  {
   "cell_type": "code",
   "execution_count": 7,
   "metadata": {},
   "outputs": [
    {
     "name": "stdout",
     "output_type": "stream",
     "text": [
      "Enter the year2019\n",
      " not a leap year \n"
     ]
    }
   ],
   "source": [
    "# Check if a year is leap year or not\n",
    "year = int(input(\"Enter the year\"))\n",
    "if year%400 == 0 or (year % 100 != 0 and year % 4 == 0):\n",
    "    print(\" leap year \")\n",
    "else:\n",
    "    print(\" not a leap year \")\n",
    "    "
   ]
  },
  {
   "cell_type": "code",
   "execution_count": 8,
   "metadata": {},
   "outputs": [
    {
     "name": "stdout",
     "output_type": "stream",
     "text": [
      "Gitam\n",
      "Gitam\n",
      "Gitam\n",
      "Gitam\n",
      "Gitam\n"
     ]
    }
   ],
   "source": [
    "# need print Gitam 5 times\n",
    "print(\"Gitam\")\n",
    "print(\"Gitam\")\n",
    "print(\"Gitam\")\n",
    "print(\"Gitam\")\n",
    "print(\"Gitam\")"
   ]
  },
  {
   "cell_type": "code",
   "execution_count": 13,
   "metadata": {},
   "outputs": [
    {
     "name": "stdout",
     "output_type": "stream",
     "text": [
      "Gitam\n",
      "Gitam\n",
      "Gitam\n",
      "Gitam\n",
      "Gitam\n"
     ]
    }
   ],
   "source": [
    "x = 0\n",
    "while x < 5 :\n",
    "    print(\"Gitam\")\n",
    "    x = x + 1"
   ]
  },
  {
   "cell_type": "code",
   "execution_count": 14,
   "metadata": {},
   "outputs": [
    {
     "name": "stdout",
     "output_type": "stream",
     "text": [
      "Enter a number7\n",
      "1 2 3 4 5 6 7 "
     ]
    }
   ],
   "source": [
    "# Print N Naturakl numbers using while loop\n",
    "# Input - 10\n",
    "# Output - 1 2 3 ....10\n",
    "n = int(input(\"Enter a number\"))\n",
    "i = 1\n",
    "while i <= n :\n",
    "    print(i,end = \" \")\n",
    "    i = i + 1"
   ]
  },
  {
   "cell_type": "code",
   "execution_count": 17,
   "metadata": {},
   "outputs": [],
   "source": [
    "# read a Number -- n\n",
    "# Add only even number between 1 to n\n",
    "# Input -- 10\n",
    "# Output -- 30(2 + 4  + 6 + 8 + 10)"
   ]
  },
  {
   "cell_type": "code",
   "execution_count": 1,
   "metadata": {},
   "outputs": [
    {
     "name": "stdout",
     "output_type": "stream",
     "text": [
      "Enter a number10\n",
      "30 "
     ]
    }
   ],
   "source": [
    "# Read a Number -- n\n",
    "# Add only even number between 1 to n\n",
    "# Input -- 10\n",
    "# Output -- 30(2 + 4  + 6 + 8 + 10)\n",
    "n = int(input(\"Enter a number\"))\n",
    "i = 1\n",
    "sum = 0\n",
    "while i <=10:\n",
    "    if i%2 == 0:\n",
    "        sum = sum + i\n",
    "    i = i + 1\n",
    "print(sum,end = \" \")"
   ]
  },
  {
   "cell_type": "code",
   "execution_count": 8,
   "metadata": {},
   "outputs": [
    {
     "name": "stdout",
     "output_type": "stream",
     "text": [
      "Enter the number123\n",
      "3\n",
      "2\n",
      "1\n"
     ]
    }
   ],
   "source": [
    "# Enter as a Number -- 123\n",
    "# Print the digits of given number : 3 2 1\n",
    "n = int (input(\"Enter the number\"))\n",
    "while n != 0:\n",
    "    r = n % 10\n",
    "    print(r) \n",
    "    n = n // 10"
   ]
  },
  {
   "cell_type": "code",
   "execution_count": 9,
   "metadata": {},
   "outputs": [],
   "source": [
    "# read a number --19528\n",
    "# print the large digit print the number\n",
    "def printlarge(n):\n",
    "    large = 0\n",
    "    while n != 0:\n",
    "        r = n %10\n",
    "        if large < r:\n",
    "            large = r\n",
    "            n = n//10\n",
    "            return large\n",
    "        printlarge(19528)"
   ]
  },
  {
   "cell_type": "code",
   "execution_count": 11,
   "metadata": {},
   "outputs": [
    {
     "ename": "SyntaxError",
     "evalue": "invalid syntax (<ipython-input-11-8e18371305ba>, line 5)",
     "output_type": "error",
     "traceback": [
      "\u001b[1;36m  File \u001b[1;32m\"<ipython-input-11-8e18371305ba>\"\u001b[1;36m, line \u001b[1;32m5\u001b[0m\n\u001b[1;33m    if r % 2 == 0\u001b[0m\n\u001b[1;37m                 ^\u001b[0m\n\u001b[1;31mSyntaxError\u001b[0m\u001b[1;31m:\u001b[0m invalid syntax\n"
     ]
    }
   ],
   "source": [
    "#read a number --1234\n",
    "#output--6(2+4)\n",
    "def addevendigits(n):\n",
    "    r = n % 10\n",
    "if r % 2 == 0\n",
    "    sum = sum + r\n",
    "     n = n // 10\n",
    "    return sum\n",
    "addevendigits(1234)"
   ]
  },
  {
   "cell_type": "code",
   "execution_count": 14,
   "metadata": {},
   "outputs": [
    {
     "ename": "SyntaxError",
     "evalue": "invalid syntax (<ipython-input-14-bf1f83faa359>, line 6)",
     "output_type": "error",
     "traceback": [
      "\u001b[1;36m  File \u001b[1;32m\"<ipython-input-14-bf1f83faa359>\"\u001b[1;36m, line \u001b[1;32m6\u001b[0m\n\u001b[1;33m    while n !=0\u001b[0m\n\u001b[1;37m               ^\u001b[0m\n\u001b[1;31mSyntaxError\u001b[0m\u001b[1;31m:\u001b[0m invalid syntax\n"
     ]
    }
   ],
   "source": [
    "# read  a number input\n",
    "#output reverse of the given number\n",
    "#123 -- 321\n",
    "def reversenumber(n):\n",
    "    rev = 0\n",
    "    while n !=0\n",
    "    r = n % 10\n",
    "     rev = rev * 10 + r\n",
    "        n = n//10\n",
    "    return rev\n",
    "reversenumber(123)"
   ]
  },
  {
   "cell_type": "code",
   "execution_count": 16,
   "metadata": {},
   "outputs": [],
   "source": [
    "#123 -- 321-- no\n",
    "#121 -- 121 -- yes\n",
    "def isPalindrome(n):\n",
    "    rev = 0\n",
    "    buffer = n\n",
    "    while n !=0:\n",
    "        r = n % 10\n",
    "        rev = rev * 10 + r\n",
    "        n = n // 10\n",
    "        if buffer == rev:\n",
    "            return\"yes\""
   ]
  },
  {
   "cell_type": "code",
   "execution_count": 26,
   "metadata": {},
   "outputs": [
    {
     "name": "stdout",
     "output_type": "stream",
     "text": [
      "1 2 3 4 5 6 7 8 9 10 "
     ]
    }
   ],
   "source": [
    "# function to print N natural numbers\n",
    "def printNNaturalNumbers(n):\n",
    "    for x in range(1,n+1):\n",
    "        print(x,end=\" \")\n",
    "    return\n",
    "printNNaturalNumbers(10)"
   ]
  },
  {
   "cell_type": "code",
   "execution_count": 28,
   "metadata": {},
   "outputs": [
    {
     "name": "stdout",
     "output_type": "stream",
     "text": [
      "100 104 108 112 116 120 124 128 132 136 140 144 148 "
     ]
    }
   ],
   "source": [
    "# Function to print alternate numbers\n",
    "#[500,520] -- 500 502 504 506 508 .......520\n",
    "#[100,150] -- 100 102 104 106 108........150\n",
    "def alternateNumbers(lb,ub):\n",
    "    for x in range(lb,ub+1,4):\n",
    "        print(x,end=\" \")\n",
    "    return\n",
    "alternateNumbers(100,150)"
   ]
  },
  {
   "cell_type": "code",
   "execution_count": 29,
   "metadata": {},
   "outputs": [
    {
     "name": "stdout",
     "output_type": "stream",
     "text": [
      "10 9 8 7 6 5 4 3 2 1 "
     ]
    }
   ],
   "source": [
    "# function to print the series in reverse \n",
    "# Input -- 1,10\n",
    "# Output : 10 9 8 7....1\n",
    "def reverseRange(start,end):\n",
    "    for x in range(end,start-1,-1):\n",
    "        print(x,end=\" \")\n",
    "    return\n",
    "reverseRange(1,10)\n",
    "      "
   ]
  },
  {
   "cell_type": "code",
   "execution_count": 30,
   "metadata": {},
   "outputs": [],
   "source": [
    "# Algorithm\n",
    "# Sample Input and Output\n",
    "# Flowchart\n",
    "#python "
   ]
  },
  {
   "cell_type": "code",
   "execution_count": 31,
   "metadata": {},
   "outputs": [
    {
     "data": {
      "text/plain": [
       "'C:\\\\Users\\\\exam'"
      ]
     },
     "execution_count": 31,
     "metadata": {},
     "output_type": "execute_result"
    }
   ],
   "source": [
    "import os \n",
    "os.getcwd()"
   ]
  },
  {
   "cell_type": "code",
   "execution_count": null,
   "metadata": {},
   "outputs": [],
   "source": []
  }
 ],
 "metadata": {
  "kernelspec": {
   "display_name": "Python 3",
   "language": "python",
   "name": "python3"
  },
  "language_info": {
   "codemirror_mode": {
    "name": "ipython",
    "version": 3
   },
   "file_extension": ".py",
   "mimetype": "text/x-python",
   "name": "python",
   "nbconvert_exporter": "python",
   "pygments_lexer": "ipython3",
   "version": "3.7.3"
  }
 },
 "nbformat": 4,
 "nbformat_minor": 2
}
