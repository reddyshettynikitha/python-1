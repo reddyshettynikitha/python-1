{
 "cells": [
  {
   "cell_type": "markdown",
   "metadata": {},
   "source": [
    "### Day Objectives\n",
    "- Python Data Structures\n",
    "- Lists\n",
    ". Tuples\n",
    ". Dictionaries\n",
    "* Basic program sets on Data Structures\n",
    "* Advanced Problem set\n",
    "* Contact Application(Dicitonary Object)\n",
    "Data Structure\n",
    ". To store ,search and sort the data\n"
   ]
  },
  {
   "cell_type": "markdown",
   "metadata": {},
   "source": [
    "### Python Data Structures\n",
    "### Lists\n",
    "- It's one of the common data structure supports by python,the list items separeted by common operators and enclosed in square brackets \n",
    "    . Example:\n",
    "        list1 = [1,6,2,18,9]\n",
    "        list2 = [\"Gitam\",10,  Hyderbad]"
   ]
  },
  {
   "cell_type": "code",
   "execution_count": 4,
   "metadata": {},
   "outputs": [
    {
     "name": "stdout",
     "output_type": "stream",
     "text": [
      "1\n",
      "8\n",
      "2\n",
      "9\n",
      "[8, 16, 9, 2]\n",
      "[8, 16, 9]\n"
     ]
    }
   ],
   "source": [
    "lst = [1,8,16,9,2]\n",
    "print(lst[0]) # Access the entire list\n",
    "print(lst[1]) # Access the Firsat item list\n",
    "print(lst[-1])# Access the second item list\n",
    "print(lst[-2])# Access the last item list\n",
    "print(lst[1:])\n",
    "print(lst[1:4])"
   ]
  },
  {
   "cell_type": "code",
   "execution_count": 6,
   "metadata": {},
   "outputs": [
    {
     "name": "stdout",
     "output_type": "stream",
     "text": [
      "['Gitam', 'Python', 1989, 2002]\n",
      "['Gitam', 'Python', 2019, 2002]\n"
     ]
    }
   ],
   "source": [
    "# Update the list item values using index(Direct Referencing)\n",
    "li = [\"Gitam\",\"Python\",1989,2002]\n",
    "print(li)\n",
    "li[2] = 2019\n",
    "print(li)"
   ]
  },
  {
   "cell_type": "code",
   "execution_count": 7,
   "metadata": {},
   "outputs": [
    {
     "name": "stdout",
     "output_type": "stream",
     "text": [
      "['Gitam', 'Python', 2019, 2002]\n",
      "['Gitam', 'Python', 2002]\n"
     ]
    }
   ],
   "source": [
    "# Delete the specific item in the list\n",
    "print(li)\n",
    "del li[2]\n",
    "print(li)"
   ]
  },
  {
   "cell_type": "code",
   "execution_count": 11,
   "metadata": {},
   "outputs": [
    {
     "name": "stdout",
     "output_type": "stream",
     "text": [
      "5\n",
      "[1, 9, 6, 18, 2, 1, 9, 6, 18, 2]\n",
      "5\n",
      "True\n",
      "False\n",
      "1 8 16 9 2 "
     ]
    }
   ],
   "source": [
    "# Basic list Operations\n",
    "lst1 = [1,9,6,18,2]\n",
    "print(len(lst1)) # len of the list\n",
    "print(lst1 * 2) # Repetation\n",
    "print(len(lst1))\n",
    "print(9 in lst1) # list item is present or not\n",
    "print(15 in lst1)\n",
    "# Access the list items using iteration\n",
    "for x in range(len(lst)):\n",
    "    print(lst[x],end=' ')"
   ]
  },
  {
   "cell_type": "code",
   "execution_count": 12,
   "metadata": {},
   "outputs": [
    {
     "name": "stdout",
     "output_type": "stream",
     "text": [
      "1\n",
      "18\n",
      "36\n",
      "7\n",
      "13.5\n"
     ]
    }
   ],
   "source": [
    "# Function of the list\n",
    "lst1\n",
    "print(min(lst1)) # Min item/element of the list\n",
    "print(max(lst1)) # Max element of the list\n",
    "print(sum(lst1)) # Sum of all the elements of the list\n",
    "print(sum(lst1)//len(lst1)) # Average of the list elements\n",
    "print(sum(lst1[1::2])/len(lst1[1::2])) # Average of all "
   ]
  },
  {
   "cell_type": "code",
   "execution_count": 21,
   "metadata": {},
   "outputs": [
    {
     "data": {
      "text/plain": [
       "[45, 23, 56, 56, 45, 45, 24, 24, 24, 24, 24, 24, 24, 24, 23, 23, 18, 1]"
      ]
     },
     "execution_count": 21,
     "metadata": {},
     "output_type": "execute_result"
    }
   ],
   "source": [
    "# methods of the list object\n",
    "lst1\n",
    "lst1.append(24) # Adding a new element at the end of the list\n",
    "lst1\n",
    "lst1.insert(2,56) # Adding an element at particular index\n",
    "lst1\n",
    "lst1.count(18) # return the value how many times the object repeated\n",
    "lst1.index(56)\n",
    "lst1.sort() # It's sort the list in ascending order\n",
    "lst1\n",
    "lst1.pop() # remove the last element from the list\n",
    "lst1\n",
    "lst1.pop(1) # Remove an element from a particular index\n",
    "lst2 = [123,23,45]\n",
    "lst1.extend(lst2) # merge the list2 into list1\n",
    "lst1.reverse() # reverse the list\n",
    "lst1.remove(123) # remove the element from the list\n",
    "lst1"
   ]
  },
  {
   "cell_type": "code",
   "execution_count": 23,
   "metadata": {},
   "outputs": [
    {
     "name": "stdout",
     "output_type": "stream",
     "text": [
      "[3, 2]\n"
     ]
    }
   ],
   "source": [
    "li = [1,9,8,2,6,3]\n",
    "print(li[-1:2:-2])"
   ]
  },
  {
   "cell_type": "code",
   "execution_count": 22,
   "metadata": {},
   "outputs": [
    {
     "data": {
      "text/plain": [
       "[1,\n",
       " 23,\n",
       " 23,\n",
       " 23,\n",
       " 24,\n",
       " 24,\n",
       " 24,\n",
       " 24,\n",
       " 24,\n",
       " 24,\n",
       " 24,\n",
       " 24,\n",
       " 24,\n",
       " 45,\n",
       " 45,\n",
       " 45,\n",
       " 56,\n",
       " 56,\n",
       " 123,\n",
       " 23,\n",
       " 45]"
      ]
     },
     "execution_count": 22,
     "metadata": {},
     "output_type": "execute_result"
    }
   ],
   "source": [
    "# methods of the list object\n",
    "lst1\n",
    "lst1.append(24) # Adding a new element at the end of the list\n",
    "lst1\n",
    "lst1.insert(2,56) # Adding an element at particular index\n",
    "lst1\n",
    "lst1.count(18) # return the value how many times the object repeated\n",
    "lst1.index(56)\n",
    "lst1.sort() # It's sort the list in ascending order\n",
    "lst1\n",
    "lst1.pop() # remove the last element from the list\n",
    "lst1\n",
    "lst1.pop(1) # Remove an element from a particular index\n",
    "lst2 = [123,23,45]\n",
    "lst1.extend(lst2) # merge the list2 into list1\n",
    "lst1"
   ]
  },
  {
   "cell_type": "code",
   "execution_count": 28,
   "metadata": {},
   "outputs": [
    {
     "data": {
      "text/plain": [
       "8"
      ]
     },
     "execution_count": 28,
     "metadata": {},
     "output_type": "execute_result"
    }
   ],
   "source": [
    "# Function to find the second large item from the list\n",
    "# Input : [1,19,6,2,8,18,3]\n",
    "# Output : 18\n",
    "def secondLarge(li):\n",
    "    li.sort()\n",
    "    return li[-2]\n",
    "def genericLarge(li,n):\n",
    "    li.sort()\n",
    "    return li[-n]\n",
    "li = [1,19,6,2,8,18,3]\n",
    "genericLarge(li,3)"
   ]
  },
  {
   "cell_type": "code",
   "execution_count": 31,
   "metadata": {},
   "outputs": [
    {
     "data": {
      "text/plain": [
       "6"
      ]
     },
     "execution_count": 31,
     "metadata": {},
     "output_type": "execute_result"
    }
   ],
   "source": [
    "# Function to find the least item from the list\n",
    "# Input : [1,19,6,2,8,18,3]\n",
    "# Output : 2\n",
    "def secondleast(li):\n",
    "    li.sort()\n",
    "    return li[1]\n",
    "def genericleast(li,n):\n",
    "    li.sort()\n",
    "    return li[n-1]\n",
    "li = [1,19,6,2,8,18,3]\n",
    "genericleast(li,4)"
   ]
  },
  {
   "cell_type": "code",
   "execution_count": 34,
   "metadata": {},
   "outputs": [
    {
     "data": {
      "text/plain": [
       "-1"
      ]
     },
     "execution_count": 34,
     "metadata": {},
     "output_type": "execute_result"
    }
   ],
   "source": [
    "#function to search the data in a list\n",
    "#search is found the return the index if not return - 1\n",
    "def linearsearch1(li,tarItem):\n",
    "   for x in range(len(li)):\n",
    "       if li[x] == tarItem:\n",
    "           return x\n",
    "       return -1\n",
    "li = [1,19,6,2,8,18,3]\n",
    "linearsearch1(li,225)"
   ]
  },
  {
   "cell_type": "code",
   "execution_count": 33,
   "metadata": {},
   "outputs": [
    {
     "name": "stdout",
     "output_type": "stream",
     "text": [
      "1 4 8 "
     ]
    }
   ],
   "source": [
    "#function\n",
    "#Input : [1,5,9,6,5,15,1,2,5],key = 5 #duplicate\n",
    "#output : 1 4 8\n",
    "def linearsearch2(li,tarItem):\n",
    "   for x in range(len(li)):\n",
    "       if li[x] == tarItem:\n",
    "           print(x,end=\" \")\n",
    "   return \n",
    "li = [1,5,9,6,5,15,1,2,5]\n",
    "linearsearch2(li,5)#1 4 8"
   ]
  },
  {
   "cell_type": "code",
   "execution_count": 42,
   "metadata": {},
   "outputs": [
    {
     "name": "stdout",
     "output_type": "stream",
     "text": [
      "!!!!!!!!!!!!!!!!"
     ]
    }
   ],
   "source": [
    "# Function\n",
    "# Input : List\n",
    "# Output :seq of characters\n",
    "# [1,5,9,6,5,15,1,2,5],tar=5 -- !! !!!!! !!!!!!!!!\n",
    "def linearSearch3(li,tarItem):\n",
    "    # Implement the logic\n",
    "    for x in range(len(li)):\n",
    "        if li[x] == tarItem:\n",
    "            j = 0\n",
    "            while j != x + 1:\n",
    "                print(\"!\",end=\"\")\n",
    "                j = j + 1\n",
    "            print(end=\"\")\n",
    "    return\n",
    "li = [1,5,9,6,5,15,1,2,5]\n",
    "linearSearch3(li,5) # !! !!!!! !!!!!!!!!"
   ]
  },
  {
   "cell_type": "code",
   "execution_count": 43,
   "metadata": {},
   "outputs": [
    {
     "data": {
      "text/plain": [
       "60"
      ]
     },
     "execution_count": 43,
     "metadata": {},
     "output_type": "execute_result"
    }
   ],
   "source": [
    "# Function\n",
    "# Input : list\n",
    "# Output : Formatted\n",
    "#Test case:\n",
    "#[12,2,45,9,18,15,36] -- 60\n",
    "# A list item which is perfectly multiple of 3 and 5\n",
    "def linearSearch4(li):\n",
    "    sum = 0\n",
    "    for x in range(len(li)):\n",
    "        if li[x] % 3 == 0 and li[x] % 5 == 0:\n",
    "            sum += li[x] # sum = sum + li[x]\n",
    "    return sum\n",
    "li = [12,2,45,9,18,15,36]\n",
    "linearSearch4(li) # 60"
   ]
  },
  {
   "cell_type": "code",
   "execution_count": 1,
   "metadata": {},
   "outputs": [
    {
     "name": "stdout",
     "output_type": "stream",
     "text": [
      "1 38155 "
     ]
    }
   ],
   "source": [
    "# Function \n",
    "# Input : list\n",
    "# Output :Formatted Output\n",
    "# Test Case :\n",
    "# [1,2,3,4,5] -- [1,3,8,15,5]\n",
    "# [6,5,2,8,2] -- [6,12,40,4,2]\n",
    "def linearsearch5(li):\n",
    "   for x in range(len(li)):\n",
    "       if x == 0 or x == len(li) - 1:\n",
    "               print(li[x],end =\" \")\n",
    "       else:\n",
    "               print(li[x-1]*li[x+1],end=\"\")\n",
    "   return\n",
    "li = [1,2,3,4,5]\n",
    "linearsearch5(li)\n"
   ]
  },
  {
   "cell_type": "markdown",
   "metadata": {},
   "source": [
    " # 1.print first and last as it is because first number does not have previous and last does not have next number\n",
    " # 2.need to multiply the previous and next number"
   ]
  },
  {
   "cell_type": "code",
   "execution_count": 3,
   "metadata": {},
   "outputs": [
    {
     "name": "stdout",
     "output_type": "stream",
     "text": [
      "1 9 19 22 "
     ]
    }
   ],
   "source": [
    "# Function\n",
    "# Input : List\n",
    "# Output :Formatted Output\n",
    "# Test Cases :\n",
    "# [1,6,9,4,16,19,22] -- 1 9 19 22\n",
    "def linearSearch6(li):\n",
    "    # Implement the logic\n",
    "    for x in range(len(li)):\n",
    "        if x == 0 or x == len(li) - 1:\n",
    "            print(li[x],end=\" \")\n",
    "        elif li[x-1] % 2 == 0 and li[x+1] % 2 == 0:\n",
    "            print(li[x],end=\" \")\n",
    "    return\n",
    "li = [1,6,9,4,16,19,22]\n",
    "linearSearch6(li) # 1 9 19 22"
   ]
  },
  {
   "cell_type": "markdown",
   "metadata": {},
   "source": [
    "# Number to List\n",
    "\n",
    "- Input as number\n",
    "- Expected Output will be list"
   ]
  },
  {
   "cell_type": "code",
   "execution_count": 8,
   "metadata": {},
   "outputs": [
    {
     "data": {
      "text/plain": [
       "[1, 4, 5, 6, 9]"
      ]
     },
     "execution_count": 8,
     "metadata": {},
     "output_type": "execute_result"
    }
   ],
   "source": [
    "# Function for conversion - Number to list\n",
    "# Input -- Number\n",
    "# Output -- List\n",
    "# Test Cases :\n",
    "# 14569 -- [1,4,5,6,9]\n",
    "# 1990 -- [1,9,9,0]\n",
    "def NumberListConversion(n):\n",
    "    li = []\n",
    "    while n != 0:\n",
    "        r = n % 10\n",
    "        li.append(r)\n",
    "        n = n // 10\n",
    "    li.reverse()\n",
    "    return li\n",
    "NumberListConversion(14569) # [1,4,5,6,9]"
   ]
  },
  {
   "cell_type": "code",
   "execution_count": 9,
   "metadata": {},
   "outputs": [
    {
     "data": {
      "text/plain": [
       "2"
      ]
     },
     "execution_count": 9,
     "metadata": {},
     "output_type": "execute_result"
    }
   ],
   "source": [
    "# Function to count the occurances of a character in a string\n",
    "# \"Python Programming\",p -> 2\n",
    "# \"Python Programming\", m -> 2\n",
    "def countCharOccurances(s,c):\n",
    "    cnt = 0\n",
    "    for ch in s:\n",
    "        if ch == c:\n",
    "            cnt += 1\n",
    "    return cnt\n",
    "countCharOccurances(\"Python Programming\",'m')\n",
    "    "
   ]
  },
  {
   "cell_type": "markdown",
   "metadata": {},
   "source": [
    "# String to list Function\n",
    "- Input will be String\n",
    "- Expected output will be list\n"
   ]
  },
  {
   "cell_type": "code",
   "execution_count": 17,
   "metadata": {},
   "outputs": [
    {
     "data": {
      "text/plain": [
       "[1, 2, 3, 4, 5, 6]"
      ]
     },
     "execution_count": 17,
     "metadata": {},
     "output_type": "execute_result"
    }
   ],
   "source": [
    "# Function to convert the string to list\n",
    "# Test Case\n",
    "# \"1 2 3 4 5 6\" -- [1,2,3,4,5,6]\n",
    "def strinToListConversion(s):\n",
    "    li = s.split()\n",
    "    numberslist = []\n",
    "    for i in li:\n",
    "        numberslist.append(int(i))\n",
    "    return numberslist\n",
    "s =\"1 2 3 4 5 6\"\n",
    "strinToListConversion(s) # [1,2,3,4,5,6]"
   ]
  },
  {
   "cell_type": "markdown",
   "metadata": {},
   "source": [
    "# Sorting Algortithms\n",
    "### All the sorting algorithms marks the list into ascending order\n",
    "    - Bubble Sort\n",
    "    - Selection Sort\n",
    "    - Insertion Sort"
   ]
  },
  {
   "cell_type": "code",
   "execution_count": 21,
   "metadata": {},
   "outputs": [
    {
     "data": {
      "text/plain": [
       "[1, 3, 6, 18, 19, 25]"
      ]
     },
     "execution_count": 21,
     "metadata": {},
     "output_type": "execute_result"
    }
   ],
   "source": [
    "# Function to represent the Bubble Sort\n",
    "def bubbleSort(li):\n",
    "    for i in range (len(li)-1):\n",
    "        for j in range(len(li)-1):\n",
    "            if li[j] > li[j+1]:\n",
    "                li[j],li[j+1] = li[j+1],li[j]\n",
    "    return li\n",
    "li = [19,1,25,6,18,3]\n",
    "bubbleSort(li)"
   ]
  },
  {
   "cell_type": "code",
   "execution_count": null,
   "metadata": {},
   "outputs": [],
   "source": []
  },
  {
   "cell_type": "code",
   "execution_count": null,
   "metadata": {},
   "outputs": [],
   "source": []
  }
 ],
 "metadata": {
  "kernelspec": {
   "display_name": "Python 3",
   "language": "python",
   "name": "python3"
  },
  "language_info": {
   "codemirror_mode": {
    "name": "ipython",
    "version": 3
   },
   "file_extension": ".py",
   "mimetype": "text/x-python",
   "name": "python",
   "nbconvert_exporter": "python",
   "pygments_lexer": "ipython3",
   "version": "3.7.3"
  }
 },
 "nbformat": 4,
 "nbformat_minor": 2
}
