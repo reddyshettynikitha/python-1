{
 "cells": [
  {
   "cell_type": "code",
   "execution_count": 1,
   "metadata": {},
   "outputs": [
    {
     "name": "stdout",
     "output_type": "stream",
     "text": [
      "1 2 3 4 6 12 "
     ]
    }
   ],
   "source": [
    "# Find factors of a given number\n",
    "# 12 -- > 1 2 3 4 6 12\n",
    "def factorslist(n):\n",
    "    for i in range(1,n+1):\n",
    "        if n % i == 0:\n",
    "            print(i,end=\" \")\n",
    "    return\n",
    "factorslist(12)\n",
    "            "
   ]
  },
  {
   "cell_type": "code",
   "execution_count": 3,
   "metadata": {},
   "outputs": [
    {
     "data": {
      "text/plain": [
       "True"
      ]
     },
     "execution_count": 3,
     "metadata": {},
     "output_type": "execute_result"
    }
   ],
   "source": [
    "# Given number is prime or not\n",
    "def isprime(n):\n",
    "    flag = True\n",
    "    for i in range(2,n//2+1):\n",
    "        if n % i == 0:\n",
    "            flag = Flase\n",
    "            return flag\n",
    "    return flag\n",
    "isprime(11)"
   ]
  },
  {
   "cell_type": "code",
   "execution_count": 11,
   "metadata": {},
   "outputs": [
    {
     "data": {
      "text/plain": [
       "0"
      ]
     },
     "execution_count": 11,
     "metadata": {},
     "output_type": "execute_result"
    }
   ],
   "source": [
    "# Function to fund prime numbers from 1 to n\n",
    "# 10 -- 4(2,3,5,7)\n",
    "def primecount(n):\n",
    "    cnt = 0\n",
    "    for a in range(2,n+1):\n",
    "        k = 0\n",
    "        for i in range(2,a//2+1):\n",
    "            if a % i == 0:\n",
    "                k = k + 1\n",
    "                if(k<=0):\n",
    "                    cnt = cnt + 1\n",
    "            return cnt\n",
    "primecount(10)\n"
   ]
  },
  {
   "cell_type": "code",
   "execution_count": 17,
   "metadata": {},
   "outputs": [
    {
     "name": "stdout",
     "output_type": "stream",
     "text": [
      "yes\n",
      "no\n"
     ]
    }
   ],
   "source": [
    "# Individual digit factorial is same as original number\n",
    "# Example :-\n",
    "# 145 -- yes (5! + 4! +1! = 145)\n",
    "# 123 -- no (3! + 2! + 1! = 9)\n",
    "def factorial(n):\n",
    "    fact = 1\n",
    "    for i in range(2,n+1):\n",
    "        fact *= i\n",
    "        return fact\n",
    "def digitFactSum(n):\n",
    "    sum = 0\n",
    "    buffer = n\n",
    "    while n != 0:\n",
    "        r = n % 10\n",
    "        sum += factorial(r)\n",
    "        n = n // 10\n",
    "    if sum == buffer:\n",
    "        return \"yes\"\n",
    "    else:\n",
    "        return \"no\"\n",
    "    return\n",
    "print(digitFactSum(145))\n",
    "print(digitFactSum(123))"
   ]
  },
  {
   "cell_type": "code",
   "execution_count": 24,
   "metadata": {},
   "outputs": [
    {
     "data": {
      "text/plain": [
       "9"
      ]
     },
     "execution_count": 24,
     "metadata": {},
     "output_type": "execute_result"
    }
   ],
   "source": [
    "# Function to return the count of palindrome numbers two limits\n",
    "# Input : 1 10\n",
    "# Output : 9(1,2,3,4,5,6,7,8,9)\n",
    "\n",
    "# Input : 11 100\n",
    "# Output : 9(11,22,33,44,55,66,77,88,99)\n",
    "def isPalindrome(n):\n",
    "    rev = 0\n",
    "    buffer = n\n",
    "    while n!= 0:\n",
    "        r = n % 10\n",
    "        rev = rev * 10 + r\n",
    "        n = n // 10\n",
    "    if rev == buffer:\n",
    "        return True\n",
    "    else:\n",
    "        return False\n",
    "    return\n",
    "    \n",
    "def countPalindrome(lb,ub):\n",
    "    cnt = 0\n",
    "    while lb != ub:\n",
    "        #Implement\n",
    "        if isPalindrome(lb) == True:\n",
    "            cnt = cnt + 1\n",
    "        lb = lb + 1\n",
    "    return cnt\n",
    "countPalindrome(1,10)\n"
   ]
  },
  {
   "cell_type": "code",
   "execution_count": 26,
   "metadata": {},
   "outputs": [
    {
     "ename": "SyntaxError",
     "evalue": "invalid syntax (<ipython-input-26-aec3eee8bfc3>, line 9)",
     "output_type": "error",
     "traceback": [
      "\u001b[1;36m  File \u001b[1;32m\"<ipython-input-26-aec3eee8bfc3>\"\u001b[1;36m, line \u001b[1;32m9\u001b[0m\n\u001b[1;33m    if n % == 0:\u001b[0m\n\u001b[1;37m            ^\u001b[0m\n\u001b[1;31mSyntaxError\u001b[0m\u001b[1;31m:\u001b[0m invalid syntax\n"
     ]
    }
   ],
   "source": [
    "# Function to generate the perfect numbers in a given range\n",
    "# perfect Number : Sum of all its factors same as original numbers \n",
    "# Example : 6 -- 1 2 3 (1 + 2 + 3)\n",
    "# Input :1 10\n",
    "# Output : 6\n",
    "def factorslist(n):\n",
    "    sum = 0\n",
    "    for i in range(1,n//2+1):\n",
    "        if n % == 0:\n",
    "            sum = sum + i\n",
    "    return sum\n",
    "def isperfect(n):\n",
    "    if factorlist(n) == n:\n",
    "        return True\n",
    "    return False\n",
    "def generatePerfect(lb,ub):\n",
    "    for x in range(lb,ub+1):\n",
    "        if isperfect(x):\n",
    "            print(x,end = \" \")\n",
    "    print()\n",
    "    return\n",
    "\n",
    "generatePerfect(1,10)\n",
    "generatePerfect(1,1000)"
   ]
  },
  {
   "cell_type": "code",
   "execution_count": 27,
   "metadata": {},
   "outputs": [
    {
     "name": "stdout",
     "output_type": "stream",
     "text": [
      "python\n",
      "<class 'str'>\n"
     ]
    }
   ],
   "source": [
    "s1 = 'python'\n",
    "print(s1)\n",
    "print(type(s1))"
   ]
  },
  {
   "cell_type": "code",
   "execution_count": 32,
   "metadata": {},
   "outputs": [
    {
     "name": "stdout",
     "output_type": "stream",
     "text": [
      "p\n",
      "y\n",
      "o\n",
      "n\n"
     ]
    }
   ],
   "source": [
    "s1 = 'python'\n",
    "print(s1[0])\n",
    "print(s1[1])\n",
    "print(s1[4])\n",
    "print(s1[len(s1)-1])"
   ]
  },
  {
   "cell_type": "code",
   "execution_count": 36,
   "metadata": {},
   "outputs": [
    {
     "name": "stdout",
     "output_type": "stream",
     "text": [
      "n\n",
      "o\n",
      "py\n",
      "py\n",
      "h\n"
     ]
    }
   ],
   "source": [
    "print(s1[-1]) #Another Way Access the last character\n",
    "print(s1[-2]) #Another Way to Access the last character\n",
    "print(s1[0:2]) #Access the first character\n",
    "print(s1[:2]) # Access the first character\n",
    "print(s1[-3]) #last three character to last character\n"
   ]
  },
  {
   "cell_type": "code",
   "execution_count": 37,
   "metadata": {},
   "outputs": [
    {
     "name": "stdout",
     "output_type": "stream",
     "text": [
      "ytho\n",
      "h\n",
      "nohtyp\n",
      "no\n",
      "pto\n",
      "ph\n"
     ]
    }
   ],
   "source": [
    "print(s1[1:-1]) #printing all character except first and last\n",
    "print(s1[len(s1)//2]) # middle of the string\n",
    "print(s1[-1::-1]) # Reverse of the string\n",
    "print(s1[-1:-3:-1]) # Acces the last two character\n",
    "# Access the alternate charecter\n",
    "print(s1[::2]) # two character\n",
    "print(s1[::3])  # three character\n"
   ]
  },
  {
   "cell_type": "code",
   "execution_count": 1,
   "metadata": {},
   "outputs": [
    {
     "name": "stdout",
     "output_type": "stream",
     "text": [
      "False\n"
     ]
    }
   ],
   "source": [
    "def isPalindrome(str):\n",
    "    if str == str[::-1]:\n",
    "        return True\n",
    "    else:\n",
    "        return False\n",
    "    return\n",
    "print(isPalindrome(\"Python\"))"
   ]
  },
  {
   "cell_type": "code",
   "execution_count": 39,
   "metadata": {},
   "outputs": [
    {
     "data": {
      "text/plain": [
       "'gnimmargorp'"
      ]
     },
     "execution_count": 39,
     "metadata": {},
     "output_type": "execute_result"
    }
   ],
   "source": [
    "def reversestring(str):\n",
    "    return str[-1::-1]\n",
    "reversestring(\"programming\")"
   ]
  },
  {
   "cell_type": "raw",
   "metadata": {},
   "source": [
    "# A - Z : 65 - 90\n",
    "# a - z : 97 - 122\n",
    "# 0 - 9 : 48 - 57\n",
    "# space : 32\n",
    "def printupper(x):\n",
    "    for i in range(len(x)):\n",
    "        if ord(x[i]) >= 65 and ord(x[i]) <= 90:\n",
    "            print(x[i],end= \" \")\n",
    "    return\n",
    "printupper(\"PyThon\")\n"
   ]
  },
  {
   "cell_type": "code",
   "execution_count": 16,
   "metadata": {},
   "outputs": [
    {
     "data": {
      "text/plain": [
       "'programming'"
      ]
     },
     "execution_count": 16,
     "metadata": {},
     "output_type": "execute_result"
    }
   ],
   "source": [
    "# Function to print \"python\" if the count of\n",
    "# Upper and lower case is same\n",
    "# print \"programming\" is not same\n",
    "# Example : Python -- 3 P T O (Upper case) -- SameCount\n",
    "#                      3 y h n\n",
    "# PytHon -- P H (2)\n",
    "#        -- y t o n (4)\n",
    "def findCount(str):\n",
    "    cntUpper = 0\n",
    "    cntLower = 0 \n",
    "    for x in range(len(str)):\n",
    "        if ord(str[x]) >=65 and ord(str[x]) <= 90:\n",
    "            cntUpper = cntUpper + 1\n",
    "        elif ord(str[x]) >= 97 and ord(str[x]) <=122:\n",
    "            cntLower = cntLower + 1\n",
    "    if cntUpper == cntLower:\n",
    "        return \"sameCount\"\n",
    "    else:\n",
    "        return \"programming\"\n",
    "    return\n",
    "findCount('PyThon') # SameCount\n",
    "findCount('PYTHon') # Programming\n"
   ]
  },
  {
   "cell_type": "code",
   "execution_count": 25,
   "metadata": {},
   "outputs": [
    {
     "name": "stdout",
     "output_type": "stream",
     "text": [
      "1 8 8 9 "
     ]
    }
   ],
   "source": [
    "# Extract digits from given string\n",
    "# Example:\n",
    "# Input : Applicat8ions\n",
    "# Output : 1 8 8 9\n",
    "def extractDigits(str):\n",
    "    for x in range(len(str)):\n",
    "        if ord(str[x]) >= 48 and ord(str[x]) <= 57:\n",
    "            print(str[x],end=\" \")\n",
    "    return\n",
    "extractDigits(\"Appli1cat8ions89\")# 1 8 8 9\n"
   ]
  },
  {
   "cell_type": "code",
   "execution_count": 26,
   "metadata": {},
   "outputs": [],
   "source": [
    "# Fuinction to return the sum of digits in a given string\n",
    "# Example :\n",
    "# Input : Applicat8ion89\n",
    "# Output : 26(1+8+8+9)"
   ]
  },
  {
   "cell_type": "code",
   "execution_count": 27,
   "metadata": {},
   "outputs": [
    {
     "data": {
      "text/plain": [
       "16"
      ]
     },
     "execution_count": 27,
     "metadata": {},
     "output_type": "execute_result"
    }
   ],
   "source": [
    "# Function to return the sum of digits in a given string\n",
    "# Example :\n",
    "# Inout : Appli1cat8ion89\n",
    "# Output : 16(8+8)\n",
    "def SumOfDigits(str):\n",
    "   sum = 0\n",
    "   for x in range(len(str)):\n",
    "       if ord(str[x]) >= 48 and ord(str[x]) <= 57:\n",
    "           if (ord(str[x])-48) % 2 == 0:\n",
    "               sum = sum + (ord(str[x])-48)\n",
    "   return sum\n",
    "SumOfDigits(\"Appli1cat8ion89\") # 26\n"
   ]
  },
  {
   "cell_type": "code",
   "execution_count": 41,
   "metadata": {},
   "outputs": [
    {
     "name": "stdout",
     "output_type": "stream",
     "text": [
      "M A D E "
     ]
    }
   ],
   "source": [
    "# Function to print the Specific Word in Upper case\n",
    "# Example :\n",
    "# Input : MADE\n",
    "# Input : Learn python Programming\n",
    "# Output : PYTHON\n",
    "def wordUpperCase(s):\n",
    "    spaceCnt = 0\n",
    "    for x in range(len(s)):\n",
    "        if ord(s[x]) == 32:\n",
    "            spaceCnt += 1 # spaceCnt = spaceCnt + 1\n",
    "        if spaceCnt == 1:\n",
    "            if ord(s[x]) >= 65 and ord(s[x]) <= 90:\n",
    "                print(s[x],end=\" \")\n",
    "            elif ord(s[x]) >= 97 and ord(s[x]) <=122:\n",
    "                print(chr(ord(s[x])-32),end=\" \")\n",
    "        if spaceCnt == 2:\n",
    "            break\n",
    "    return\n",
    "wordUpperCase('python Made Easy')# MADE"
   ]
  },
  {
   "cell_type": "markdown",
   "metadata": {},
   "source": []
  }
 ],
 "metadata": {
  "kernelspec": {
   "display_name": "Python 3",
   "language": "python",
   "name": "python3"
  },
  "language_info": {
   "codemirror_mode": {
    "name": "ipython",
    "version": 3
   },
   "file_extension": ".py",
   "mimetype": "text/x-python",
   "name": "python",
   "nbconvert_exporter": "python",
   "pygments_lexer": "ipython3",
   "version": "3.7.3"
  }
 },
 "nbformat": 4,
 "nbformat_minor": 2
}
